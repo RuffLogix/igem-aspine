{
  "cells": [
    {
      "cell_type": "markdown",
      "metadata": {
        "id": "PUB0cvWV2d9q"
      },
      "source": [
        "<div>\n",
        "  <center>\n",
        "  <img src=\"https://drive.google.com/uc?id=1IHXf1W23kjHNsPR4pt61pWa0-43R7BL1\" width=\"400\"/>\n",
        "  </center>\n",
        "</div>\n",
        "\n",
        "**Agarwal V, Shendure J**. [Predicting mRNA abundance directly from genomic sequence using deep convolutional neural networks](https://doi.org/10.1101/416685). 2020. *Cell Reports*. [*Github*](https://github.com/vagarwal87/Xpresso). [*Website*](https://xpresso.gs.washington.edu)."
      ]
    },
    {
      "cell_type": "code",
      "source": [
        "import os\n",
        "from typing import Dict, List, Tuple\n",
        "\n",
        "import pandas as pd\n",
        "import numpy as np\n",
        "import numpy.typing as npt\n",
        "from tensorflow.keras.callbacks import Callback, EarlyStopping, ModelCheckpoint\n",
        "from tensorflow.keras.layers import *\n",
        "from tensorflow.keras.metrics import *\n",
        "from tensorflow.keras.models import Model, load_model\n",
        "from tensorflow.keras.optimizers import SGD, Adam\n",
        "from tensorflow.keras.utils import plot_model"
      ],
      "metadata": {
        "id": "kEQSJRMPynv6"
      },
      "execution_count": null,
      "outputs": []
    },
    {
      "cell_type": "markdown",
      "metadata": {
        "id": "ycvRpM20OO0e"
      },
      "source": [
        "# Setup Xpresso dependencies, datasets, and imports\n"
      ]
    },
    {
      "cell_type": "code",
      "source": [
        "INVALID_SEQUENCE_NUCLOTIDES_ERROR = \"Invalid nucleotides in sequence.\"\n",
        "INVALID_SEQUENCE_EMPTY_ERROR = \"Empty sequence.\"\n",
        "SEQUENCE_INDEX = {\"A\": 0, \"C\": 1, \"G\": 2, \"T\": 3, \"a\": 0, \"c\": 1, \"g\": 2, \"t\": 3}"
      ],
      "metadata": {
        "id": "1fzysBGUyp5C"
      },
      "execution_count": null,
      "outputs": []
    },
    {
      "cell_type": "code",
      "execution_count": 1,
      "metadata": {
        "id": "Lkk2TUF_YW3r"
      },
      "outputs": [],
      "source": [
        "def valid_sequence(sequence_list: List[str]) -> bool:\n",
        "    \"\"\"\n",
        "    Check if a list of sequences is valid.\n",
        "\n",
        "    Parameters\n",
        "    ----------\n",
        "    sequence_list: List[str]\n",
        "        A list of sequences, where each sequence is a string of nucleotides (e.g. 'ACGT').\n",
        "\n",
        "    Returns\n",
        "    -------\n",
        "    bool\n",
        "        True if all sequences are valid, False otherwise.\n",
        "\n",
        "    Examples\n",
        "    --------\n",
        "    >>> valid_sequence(['ACGT', 'ACGT'])\n",
        "    True\n",
        "\n",
        "    >>> valid_sequence(['ANGT', 'ACGT', 'ACGT', 'ACGT'])\n",
        "    False\n",
        "\n",
        "    >>> valid_sequence(['ACGT', 'ACGT', 'ACGT', 'ACGT', 'ACGT'])\n",
        "    True\n",
        "    \"\"\"\n",
        "\n",
        "    for sequence in sequence_list:\n",
        "        for nucleotide in sequence:\n",
        "            has_n_nucleotide = bool(nucleotide == \"N\" or nucleotide == \"n\")\n",
        "            if nucleotide not in SEQUENCE_INDEX and not has_n_nucleotide:\n",
        "                return False\n",
        "\n",
        "    return True\n",
        "\n",
        "\n",
        "def encode_sequence(sequence_list: List[str]) -> npt.NDArray[np.float32]:\n",
        "    \"\"\"\n",
        "    Convert a list of sequences into a one-hot encoded tensor.\n",
        "\n",
        "    Parameters\n",
        "    ----------\n",
        "    sequences_list: List[str]\n",
        "        A list of sequences, where each sequence is a string of nucleotides (e.g. 'ACGT').\n",
        "\n",
        "    Returns\n",
        "    -------\n",
        "    np.ndarray\n",
        "        A 3D numpy array of shape (n_sequences, sequence_len, 4), where n_sequences is the number of sequences in the input list, and sequence_len is the length of each sequence. The last dimension has size 4 and corresponds to the one-hot encoding of the nucleotides (A, C, G, T).\n",
        "\n",
        "    Examples\n",
        "    --------\n",
        "    >>> encode_sequence(['ACGT'])\n",
        "    array([[[1., 0., 0., 0.],\n",
        "            [0., 1., 0., 0.],\n",
        "            [0., 0., 1., 0.],\n",
        "            [0., 0., 0., 1.]], dtype=float32)\n",
        "    \"\"\"\n",
        "\n",
        "    # Check if the input sequences contain invalid nucleotides\n",
        "    if not valid_sequence(sequence_list):\n",
        "        raise ValueError(INVALID_SEQUENCE_NUCLOTIDES_ERROR)\n",
        "    # Check if the input sequences are empty\n",
        "    if len(sequence_list) == 0:\n",
        "        raise ValueError(INVALID_SEQUENCE_EMPTY_ERROR)\n",
        "\n",
        "    # Get the number of sequences and the length of each sequence\n",
        "    n_sequences = len(sequence_list)\n",
        "    sequence_len = len(sequence_list[0])\n",
        "\n",
        "    # Initialize an array of zeros\n",
        "    sequence_vector = np.zeros((n_sequences, sequence_len, 4), dtype=np.float32)\n",
        "\n",
        "    # Fill in the array with the one-hot encoding\n",
        "    for i in range(n_sequences):\n",
        "        sequence = sequence_list[i]\n",
        "\n",
        "        # For each nucleotide in the sequence, set the corresponding one-hot encoding\n",
        "        for j in range(len(sequence_list[i])):\n",
        "            if sequence[j] in SEQUENCE_INDEX:\n",
        "                sequence_vector[i, j, SEQUENCE_INDEX[sequence[j]]] = 1.0\n",
        "\n",
        "    return sequence_vector"
      ]
    },
    {
      "cell_type": "markdown",
      "source": [
        "# Xpresso Module"
      ],
      "metadata": {
        "id": "lICFZgGPtz20"
      }
    },
    {
      "cell_type": "code",
      "source": [
        "DEFAULT_BATCH_SIZE = 64\n",
        "DEFAULT_N_EPOCHS = 250\n",
        "DEFAULT_SAVE_DIR = \"./checkpoints\"\n",
        "DEFAULT_CHECKPOINT_NAME = \"bestparams.keras\""
      ],
      "metadata": {
        "id": "oLBo5bDht2rT"
      },
      "execution_count": 2,
      "outputs": []
    },
    {
      "cell_type": "code",
      "source": [
        "class XPressoModel:\n",
        "    def __init__(self, promoter_shape: Tuple[int], halflife_shape: Tuple[int]) -> None:\n",
        "        \"\"\"\n",
        "        Initialize the model.\n",
        "\n",
        "        Parameters\n",
        "        ----------\n",
        "        promoter_shape : Tuple[int]\n",
        "            The shape of the promoter data.\n",
        "        halflife_shape : Tuple[int]\n",
        "            The shape of the halflife data.\n",
        "\n",
        "        Examples\n",
        "        --------\n",
        "        >>> model = XPressoModel(promoter_shape=(1000, 4, ), halflife_shape=(8,))\n",
        "        \"\"\"\n",
        "\n",
        "        self.promoter_shape = promoter_shape\n",
        "        self.halflife_shape = halflife_shape\n",
        "        self._model = self._create_model()\n",
        "\n",
        "    def __call__(\n",
        "        self, promoter: npt.NDArray[np.float32], halflife: npt.NDArray[np.float32]\n",
        "    ) -> npt.NDArray[np.float32]:\n",
        "        \"\"\"\n",
        "        Make a prediction using the Xpresso model.\n",
        "\n",
        "        Parameters\n",
        "        ----------\n",
        "        promoter : npt.NDArray[np.float32]\n",
        "            The promoter data.\n",
        "        halflife : npt.NDArray[np.float32]\n",
        "            The halflife data.\n",
        "\n",
        "        Returns\n",
        "        -------\n",
        "        npt.NDArray[np.float32]\n",
        "            The model's prediction.\n",
        "\n",
        "        Examples\n",
        "        --------\n",
        "        >>> model = XPressoModel(promoter_shape=(1000, 4, ), halflife_shape=(8,))\n",
        "        >>> promoter = np.random.rand(1, 1000, 4).astype(np.float32)\n",
        "        >>> halflife = np.random.rand(1, 8).astype(np.float32)\n",
        "        >>> model(promoter, halflife)\n",
        "        array([0.5], dtype=float32)\n",
        "        \"\"\"\n",
        "\n",
        "        return self._model.predict([promoter, halflife], batch_size=64).flatten()\n",
        "\n",
        "    def fit(\n",
        "        self,\n",
        "        train_promoter: npt.NDArray[np.float32],\n",
        "        train_halflife: npt.NDArray[np.float32],\n",
        "        train_y: npt.NDArray[np.float32],\n",
        "        valid_promoter: npt.NDArray[np.float32],\n",
        "        valid_halflife: npt.NDArray[np.float32],\n",
        "        valid_y: npt.NDArray[np.float32],\n",
        "        batch_size: int = DEFAULT_BATCH_SIZE,\n",
        "        n_epochs: int = DEFAULT_N_EPOCHS,\n",
        "        save_dir: str = DEFAULT_SAVE_DIR,\n",
        "    ) -> Dict[str, List[float]]:\n",
        "        \"\"\"\n",
        "        Fit the model to the training data.\n",
        "\n",
        "        Parameters\n",
        "        ----------\n",
        "        train_promoter : npt.NDArray[np.float32]\n",
        "            The promoter data for the training set.\n",
        "        train_halflife : npt.NDArray[np.float32]\n",
        "            The halflife data for the training set.\n",
        "        train_y : npt.NDArray[np.float32]\n",
        "            The target data for the training set.\n",
        "        valid_promoter : npt.NDArray[np.float32]\n",
        "            The promoter data for the validation set, by default None.\n",
        "        valid_halflife : npt.NDArray[np.float32]\n",
        "            The halflife data for the validation set, by default None.\n",
        "        valid_y : npt.NDArray[np.float32]\n",
        "            The target data for the validation set, by default None.\n",
        "        batch_size : int, optional\n",
        "            The batch size to use during training, by default 64.\n",
        "        n_epochs : int, optional\n",
        "            The number of epochs to train for, by default 250.\n",
        "        save_dir : str, optional\n",
        "            The directory to save the model's best parameters, by default \"./checkpoints\".\n",
        "\n",
        "        Returns\n",
        "        -------\n",
        "        Dict[str, List[float]]\n",
        "            A dictionary containing the training and validation loss and accuracy history.\n",
        "\n",
        "        Examples\n",
        "        --------\n",
        "        >>> model = XPressoModel(promoter_shape=(1000, 4, ), halflife_shape=(8,))\n",
        "        >>> promoter = np.random.rand(1, 1000, 4).astype(np.float32)\n",
        "        >>> halflife = np.random.rand(1, 8).astype(np.float32)\n",
        "        >>> y = np.random.rand(1).astype(np.float32)\n",
        "        >>> model.fit(promoter, halflife, y, promoter, halflife, y)\n",
        "        {'loss': [0.5], 'val_loss': [0.5], 'mean_squared_error': [0.5], 'val_mean_squared_error': [0.5]}\n",
        "        \"\"\"\n",
        "\n",
        "        save_path = os.path.join(save_dir, DEFAULT_CHECKPOINT_NAME)\n",
        "\n",
        "        # Create a callback that saves the model's weights\n",
        "        checkpoint_callback = ModelCheckpoint(\n",
        "            save_path,\n",
        "            monitor=\"val_loss\",\n",
        "            verbose=1,\n",
        "            save_best_only=True,\n",
        "            mode=\"min\",\n",
        "        )\n",
        "\n",
        "        # Create a callback that stops the training when the validation loss stops improving\n",
        "        earlystopping_callback = EarlyStopping(\n",
        "            monitor=\"val_loss\", patience=7, verbose=1, mode=\"min\"\n",
        "        )\n",
        "\n",
        "        # Fit the model\n",
        "        result = self._model.fit(\n",
        "            [train_promoter, train_halflife],\n",
        "            train_y,\n",
        "            batch_size=int(batch_size),\n",
        "            shuffle=True,\n",
        "            epochs=n_epochs,\n",
        "            validation_data=([valid_promoter, valid_halflife], valid_y),\n",
        "            callbacks=[earlystopping_callback, checkpoint_callback],\n",
        "        )\n",
        "\n",
        "        return result.history\n",
        "\n",
        "    def load(self, model_path: str):\n",
        "        \"\"\"\n",
        "        Load a model from a file.\n",
        "\n",
        "        Parameters\n",
        "        ----------\n",
        "        model_path : str\n",
        "            The path to the model file.\n",
        "\n",
        "        Examples\n",
        "        --------\n",
        "        >>> model = XPressoModel(promoter_shape=(1000, 4, ), halflife_shape=(8,))\n",
        "        >>> model.load(\"model.keras\")\n",
        "        \"\"\"\n",
        "\n",
        "        self._model = load_model(model_path)\n",
        "\n",
        "    def _create_model(self) -> Model:\n",
        "        \"\"\"\n",
        "        Create the Xpresso model.\n",
        "        \"\"\"\n",
        "\n",
        "        activationFxn = \"relu\"\n",
        "\n",
        "        halflifedata = Input(shape=self.halflife_shape, name=\"halflife\")\n",
        "        input_promoter = Input(shape=self.promoter_shape, name=\"promoter\")\n",
        "\n",
        "        x = Conv1D(\n",
        "            int(2**7),\n",
        "            int(6),\n",
        "            dilation_rate=int(1),\n",
        "            padding=\"same\",\n",
        "            kernel_initializer=\"glorot_normal\",\n",
        "            activation=activationFxn,\n",
        "        )(input_promoter)\n",
        "        x = MaxPooling1D(int(30))(x)\n",
        "\n",
        "        maxPool2 = int(10)\n",
        "        x = Conv1D(\n",
        "            int(2**5),\n",
        "            int(9),\n",
        "            dilation_rate=int(1),\n",
        "            padding=\"same\",\n",
        "            kernel_initializer=\"glorot_normal\",\n",
        "            activation=activationFxn,\n",
        "        )(x)\n",
        "        x = MaxPooling1D(maxPool2)(x)\n",
        "\n",
        "        x = Flatten()(x)\n",
        "        x = Concatenate()([x, halflifedata])\n",
        "        x = Dense(int(2**6))(x)\n",
        "        x = Activation(activationFxn)(x)\n",
        "        x = Dropout(0.00099)(x)\n",
        "\n",
        "        x = Dense(int(2))(x)\n",
        "        x = Activation(activationFxn)(x)\n",
        "        x = Dropout(0.01546)(x)\n",
        "\n",
        "        main_output = Dense(1)(x)\n",
        "        model = Model(inputs=[input_promoter, halflifedata], outputs=[main_output])\n",
        "\n",
        "        model.compile(\n",
        "            optimizer=SGD(learning_rate=5 * 1e-4, momentum=0.9),\n",
        "            loss=\"mean_squared_error\",\n",
        "            metrics=[\"mean_squared_error\"],\n",
        "        )\n",
        "\n",
        "        return model"
      ],
      "metadata": {
        "id": "4vZnTvw4toKl"
      },
      "execution_count": 3,
      "outputs": []
    },
    {
      "cell_type": "markdown",
      "source": [
        "# Example"
      ],
      "metadata": {
        "id": "o5NEiIQSu96r"
      }
    },
    {
      "cell_type": "markdown",
      "source": [
        "## Load Dataset"
      ],
      "metadata": {
        "id": "5HnE3nuSyVwX"
      }
    },
    {
      "cell_type": "code",
      "source": [
        "train_df = pd.read_csv(\"./train_thisone_clean.csv\")\n",
        "test_df = pd.read_csv(\"./test_thisone_clean.csv\")\n",
        "valid_df = pd.read_csv(\"./valid_thisone_clean.csv\")"
      ],
      "metadata": {
        "id": "B4wfIyK_vCts"
      },
      "execution_count": 12,
      "outputs": []
    },
    {
      "cell_type": "code",
      "source": [
        "features = [\n",
        "    \"utr5_length\",\n",
        "    \"cds_length\",\n",
        "    \"intron_length\",\n",
        "    \"utr3_length\",\n",
        "    \"utr5_gc\",\n",
        "    \"cds_gc\",\n",
        "    \"utr3_gc\",\n",
        "    \"orf_exon_density\",\n",
        "]\n",
        "label = [\"MPE\"]"
      ],
      "metadata": {
        "id": "fvtEjR_LwwWd"
      },
      "execution_count": 13,
      "outputs": []
    },
    {
      "cell_type": "code",
      "source": [
        "train_df.dropna(inplace=True)\n",
        "test_df.dropna(inplace=True)\n",
        "valid_df.dropna(inplace=True)\n",
        "\n",
        "train_X = train_df[features + [\"SEQ\"]]\n",
        "train_mpe = train_df[label].to_numpy()\n",
        "test_X = test_df[features + [\"SEQ\"]]\n",
        "test_mpe = test_df[label].to_numpy()\n",
        "valid_X = valid_df[features + [\"SEQ\"]]\n",
        "valid_mpe = valid_df[label].to_numpy()\n",
        "\n",
        "train_promoter = encode_sequence(train_X[\"SEQ\"].to_numpy())\n",
        "test_promoter = encode_sequence(test_X[\"SEQ\"].to_numpy())\n",
        "valid_promoter = encode_sequence(valid_X[\"SEQ\"].to_numpy())\n",
        "\n",
        "train_halflife = train_X[features].to_numpy()\n",
        "test_halflife = test_X[features].to_numpy()\n",
        "valid_halflife = valid_X[features].to_numpy()"
      ],
      "metadata": {
        "id": "DuRBff5fvI5A"
      },
      "execution_count": 14,
      "outputs": []
    },
    {
      "cell_type": "code",
      "source": [
        "print(\"=== Train ===\")\n",
        "print(\"Promoter:\", train_promoter.shape)\n",
        "print(\"Halflife:\", train_halflife.shape)\n",
        "print(\"MPE: \", train_mpe.shape)\n",
        "\n",
        "print(\"=== Test ===\")\n",
        "print(\"Promoter:\", test_promoter.shape)\n",
        "print(\"Halflife:\", test_halflife.shape)\n",
        "print(\"MPE: \", test_mpe.shape)\n",
        "\n",
        "print(\"=== Valid ===\")\n",
        "print(\"Promoter:\", valid_promoter.shape)\n",
        "print(\"Halflife:\", valid_halflife.shape)\n",
        "print(\"MPE: \", valid_mpe.shape)"
      ],
      "metadata": {
        "colab": {
          "base_uri": "https://localhost:8080/"
        },
        "id": "AOpQOVMJvAvA",
        "outputId": "300d8c43-c0c2-4eea-dea9-9439fb768108"
      },
      "execution_count": 15,
      "outputs": [
        {
          "output_type": "stream",
          "name": "stdout",
          "text": [
            "=== Train ===\n",
            "Promoter: (13714, 20000, 4)\n",
            "Halflife: (13714, 8)\n",
            "MPE:  (13714, 1)\n",
            "=== Test ===\n",
            "Promoter: (816, 20000, 4)\n",
            "Halflife: (816, 8)\n",
            "MPE:  (816, 1)\n",
            "=== Valid ===\n",
            "Promoter: (829, 20000, 4)\n",
            "Halflife: (829, 8)\n",
            "MPE:  (829, 1)\n"
          ]
        }
      ]
    },
    {
      "cell_type": "markdown",
      "source": [
        "## Traning & Testing"
      ],
      "metadata": {
        "id": "M1NX3XODyajh"
      }
    },
    {
      "cell_type": "code",
      "source": [
        "# Load the model with specific input shape\n",
        "model = XPressoModel(\n",
        "    promoter_shape=valid_promoter.shape[1:], halflife_shape=valid_halflife.shape[1:]\n",
        ")\n",
        "\n",
        "# Train the model using training and validation set\n",
        "result = model.fit(\n",
        "    valid_promoter,\n",
        "    valid_halflife,\n",
        "    valid_mpe,\n",
        "    valid_promoter,\n",
        "    valid_halflife,\n",
        "    valid_mpe,\n",
        "    n_epochs=20,\n",
        ")\n",
        "\n",
        "prediction = model(test_promoter, test_halflife)"
      ],
      "metadata": {
        "colab": {
          "base_uri": "https://localhost:8080/"
        },
        "id": "t-KmSnuwu-5J",
        "outputId": "f38c6758-149c-4681-ab55-55ac47411c92"
      },
      "execution_count": 10,
      "outputs": [
        {
          "output_type": "stream",
          "name": "stdout",
          "text": [
            "Epoch 1/20\n",
            "\u001b[1m13/13\u001b[0m \u001b[32m━━━━━━━━━━━━━━━━━━━━\u001b[0m\u001b[37m\u001b[0m \u001b[1m0s\u001b[0m 325ms/step - loss: 0.2605 - mean_squared_error: 0.2605\n",
            "Epoch 1: val_loss improved from inf to 0.24475, saving model to ./checkpoints/bestparams.keras\n",
            "\u001b[1m13/13\u001b[0m \u001b[32m━━━━━━━━━━━━━━━━━━━━\u001b[0m\u001b[37m\u001b[0m \u001b[1m9s\u001b[0m 512ms/step - loss: 0.2599 - mean_squared_error: 0.2599 - val_loss: 0.2448 - val_mean_squared_error: 0.2448\n",
            "Epoch 2/20\n",
            "\u001b[1m13/13\u001b[0m \u001b[32m━━━━━━━━━━━━━━━━━━━━\u001b[0m\u001b[37m\u001b[0m \u001b[1m0s\u001b[0m 132ms/step - loss: 0.2400 - mean_squared_error: 0.2400\n",
            "Epoch 2: val_loss did not improve from 0.24475\n",
            "\u001b[1m13/13\u001b[0m \u001b[32m━━━━━━━━━━━━━━━━━━━━\u001b[0m\u001b[37m\u001b[0m \u001b[1m2s\u001b[0m 154ms/step - loss: 0.2403 - mean_squared_error: 0.2403 - val_loss: 0.2462 - val_mean_squared_error: 0.2462\n",
            "Epoch 3/20\n",
            "\u001b[1m13/13\u001b[0m \u001b[32m━━━━━━━━━━━━━━━━━━━━\u001b[0m\u001b[37m\u001b[0m \u001b[1m0s\u001b[0m 132ms/step - loss: 0.2484 - mean_squared_error: 0.2484\n",
            "Epoch 3: val_loss improved from 0.24475 to 0.23845, saving model to ./checkpoints/bestparams.keras\n",
            "\u001b[1m13/13\u001b[0m \u001b[32m━━━━━━━━━━━━━━━━━━━━\u001b[0m\u001b[37m\u001b[0m \u001b[1m3s\u001b[0m 162ms/step - loss: 0.2486 - mean_squared_error: 0.2486 - val_loss: 0.2384 - val_mean_squared_error: 0.2384\n",
            "Epoch 4/20\n",
            "\u001b[1m13/13\u001b[0m \u001b[32m━━━━━━━━━━━━━━━━━━━━\u001b[0m\u001b[37m\u001b[0m \u001b[1m0s\u001b[0m 133ms/step - loss: 0.2386 - mean_squared_error: 0.2386\n",
            "Epoch 4: val_loss improved from 0.23845 to 0.22860, saving model to ./checkpoints/bestparams.keras\n",
            "\u001b[1m13/13\u001b[0m \u001b[32m━━━━━━━━━━━━━━━━━━━━\u001b[0m\u001b[37m\u001b[0m \u001b[1m2s\u001b[0m 163ms/step - loss: 0.2385 - mean_squared_error: 0.2385 - val_loss: 0.2286 - val_mean_squared_error: 0.2286\n",
            "Epoch 5/20\n",
            "\u001b[1m13/13\u001b[0m \u001b[32m━━━━━━━━━━━━━━━━━━━━\u001b[0m\u001b[37m\u001b[0m \u001b[1m0s\u001b[0m 132ms/step - loss: 0.2350 - mean_squared_error: 0.2350\n",
            "Epoch 5: val_loss improved from 0.22860 to 0.22427, saving model to ./checkpoints/bestparams.keras\n",
            "\u001b[1m13/13\u001b[0m \u001b[32m━━━━━━━━━━━━━━━━━━━━\u001b[0m\u001b[37m\u001b[0m \u001b[1m3s\u001b[0m 163ms/step - loss: 0.2349 - mean_squared_error: 0.2349 - val_loss: 0.2243 - val_mean_squared_error: 0.2243\n",
            "Epoch 6/20\n",
            "\u001b[1m13/13\u001b[0m \u001b[32m━━━━━━━━━━━━━━━━━━━━\u001b[0m\u001b[37m\u001b[0m \u001b[1m0s\u001b[0m 135ms/step - loss: 0.2183 - mean_squared_error: 0.2183\n",
            "Epoch 6: val_loss did not improve from 0.22427\n",
            "\u001b[1m13/13\u001b[0m \u001b[32m━━━━━━━━━━━━━━━━━━━━\u001b[0m\u001b[37m\u001b[0m \u001b[1m2s\u001b[0m 161ms/step - loss: 0.2188 - mean_squared_error: 0.2188 - val_loss: 0.2255 - val_mean_squared_error: 0.2255\n",
            "Epoch 7/20\n",
            "\u001b[1m13/13\u001b[0m \u001b[32m━━━━━━━━━━━━━━━━━━━━\u001b[0m\u001b[37m\u001b[0m \u001b[1m0s\u001b[0m 141ms/step - loss: 0.2208 - mean_squared_error: 0.2208\n",
            "Epoch 7: val_loss did not improve from 0.22427\n",
            "\u001b[1m13/13\u001b[0m \u001b[32m━━━━━━━━━━━━━━━━━━━━\u001b[0m\u001b[37m\u001b[0m \u001b[1m2s\u001b[0m 170ms/step - loss: 0.2212 - mean_squared_error: 0.2212 - val_loss: 0.2254 - val_mean_squared_error: 0.2254\n",
            "Epoch 8/20\n",
            "\u001b[1m13/13\u001b[0m \u001b[32m━━━━━━━━━━━━━━━━━━━━\u001b[0m\u001b[37m\u001b[0m \u001b[1m0s\u001b[0m 134ms/step - loss: 0.2199 - mean_squared_error: 0.2199\n",
            "Epoch 8: val_loss improved from 0.22427 to 0.21332, saving model to ./checkpoints/bestparams.keras\n",
            "\u001b[1m13/13\u001b[0m \u001b[32m━━━━━━━━━━━━━━━━━━━━\u001b[0m\u001b[37m\u001b[0m \u001b[1m2s\u001b[0m 159ms/step - loss: 0.2200 - mean_squared_error: 0.2200 - val_loss: 0.2133 - val_mean_squared_error: 0.2133\n",
            "Epoch 9/20\n",
            "\u001b[1m13/13\u001b[0m \u001b[32m━━━━━━━━━━━━━━━━━━━━\u001b[0m\u001b[37m\u001b[0m \u001b[1m0s\u001b[0m 133ms/step - loss: 0.2136 - mean_squared_error: 0.2136\n",
            "Epoch 9: val_loss did not improve from 0.21332\n",
            "\u001b[1m13/13\u001b[0m \u001b[32m━━━━━━━━━━━━━━━━━━━━\u001b[0m\u001b[37m\u001b[0m \u001b[1m2s\u001b[0m 160ms/step - loss: 0.2136 - mean_squared_error: 0.2136 - val_loss: 0.2150 - val_mean_squared_error: 0.2150\n",
            "Epoch 10/20\n",
            "\u001b[1m13/13\u001b[0m \u001b[32m━━━━━━━━━━━━━━━━━━━━\u001b[0m\u001b[37m\u001b[0m \u001b[1m0s\u001b[0m 133ms/step - loss: 0.2106 - mean_squared_error: 0.2106\n",
            "Epoch 10: val_loss improved from 0.21332 to 0.20889, saving model to ./checkpoints/bestparams.keras\n",
            "\u001b[1m13/13\u001b[0m \u001b[32m━━━━━━━━━━━━━━━━━━━━\u001b[0m\u001b[37m\u001b[0m \u001b[1m3s\u001b[0m 164ms/step - loss: 0.2109 - mean_squared_error: 0.2109 - val_loss: 0.2089 - val_mean_squared_error: 0.2089\n",
            "Epoch 11/20\n",
            "\u001b[1m13/13\u001b[0m \u001b[32m━━━━━━━━━━━━━━━━━━━━\u001b[0m\u001b[37m\u001b[0m \u001b[1m0s\u001b[0m 132ms/step - loss: 0.1992 - mean_squared_error: 0.1992\n",
            "Epoch 11: val_loss improved from 0.20889 to 0.20659, saving model to ./checkpoints/bestparams.keras\n",
            "\u001b[1m13/13\u001b[0m \u001b[32m━━━━━━━━━━━━━━━━━━━━\u001b[0m\u001b[37m\u001b[0m \u001b[1m2s\u001b[0m 156ms/step - loss: 0.2000 - mean_squared_error: 0.2000 - val_loss: 0.2066 - val_mean_squared_error: 0.2066\n",
            "Epoch 12/20\n",
            "\u001b[1m13/13\u001b[0m \u001b[32m━━━━━━━━━━━━━━━━━━━━\u001b[0m\u001b[37m\u001b[0m \u001b[1m0s\u001b[0m 136ms/step - loss: 0.2049 - mean_squared_error: 0.2049\n",
            "Epoch 12: val_loss improved from 0.20659 to 0.20263, saving model to ./checkpoints/bestparams.keras\n",
            "\u001b[1m13/13\u001b[0m \u001b[32m━━━━━━━━━━━━━━━━━━━━\u001b[0m\u001b[37m\u001b[0m \u001b[1m3s\u001b[0m 168ms/step - loss: 0.2051 - mean_squared_error: 0.2051 - val_loss: 0.2026 - val_mean_squared_error: 0.2026\n",
            "Epoch 13/20\n",
            "\u001b[1m13/13\u001b[0m \u001b[32m━━━━━━━━━━━━━━━━━━━━\u001b[0m\u001b[37m\u001b[0m \u001b[1m0s\u001b[0m 139ms/step - loss: 0.1946 - mean_squared_error: 0.1946\n",
            "Epoch 13: val_loss improved from 0.20263 to 0.19707, saving model to ./checkpoints/bestparams.keras\n",
            "\u001b[1m13/13\u001b[0m \u001b[32m━━━━━━━━━━━━━━━━━━━━\u001b[0m\u001b[37m\u001b[0m \u001b[1m2s\u001b[0m 163ms/step - loss: 0.1951 - mean_squared_error: 0.1951 - val_loss: 0.1971 - val_mean_squared_error: 0.1971\n",
            "Epoch 14/20\n",
            "\u001b[1m13/13\u001b[0m \u001b[32m━━━━━━━━━━━━━━━━━━━━\u001b[0m\u001b[37m\u001b[0m \u001b[1m0s\u001b[0m 134ms/step - loss: 0.1801 - mean_squared_error: 0.1801\n",
            "Epoch 14: val_loss improved from 0.19707 to 0.19440, saving model to ./checkpoints/bestparams.keras\n",
            "\u001b[1m13/13\u001b[0m \u001b[32m━━━━━━━━━━━━━━━━━━━━\u001b[0m\u001b[37m\u001b[0m \u001b[1m2s\u001b[0m 160ms/step - loss: 0.1813 - mean_squared_error: 0.1813 - val_loss: 0.1944 - val_mean_squared_error: 0.1944\n",
            "Epoch 15/20\n",
            "\u001b[1m13/13\u001b[0m \u001b[32m━━━━━━━━━━━━━━━━━━━━\u001b[0m\u001b[37m\u001b[0m \u001b[1m0s\u001b[0m 132ms/step - loss: 0.2000 - mean_squared_error: 0.2000\n",
            "Epoch 15: val_loss improved from 0.19440 to 0.19158, saving model to ./checkpoints/bestparams.keras\n",
            "\u001b[1m13/13\u001b[0m \u001b[32m━━━━━━━━━━━━━━━━━━━━\u001b[0m\u001b[37m\u001b[0m \u001b[1m2s\u001b[0m 156ms/step - loss: 0.1996 - mean_squared_error: 0.1996 - val_loss: 0.1916 - val_mean_squared_error: 0.1916\n",
            "Epoch 16/20\n",
            "\u001b[1m13/13\u001b[0m \u001b[32m━━━━━━━━━━━━━━━━━━━━\u001b[0m\u001b[37m\u001b[0m \u001b[1m0s\u001b[0m 134ms/step - loss: 0.1963 - mean_squared_error: 0.1963\n",
            "Epoch 16: val_loss improved from 0.19158 to 0.18957, saving model to ./checkpoints/bestparams.keras\n",
            "\u001b[1m13/13\u001b[0m \u001b[32m━━━━━━━━━━━━━━━━━━━━\u001b[0m\u001b[37m\u001b[0m \u001b[1m2s\u001b[0m 159ms/step - loss: 0.1963 - mean_squared_error: 0.1963 - val_loss: 0.1896 - val_mean_squared_error: 0.1896\n",
            "Epoch 17/20\n",
            "\u001b[1m13/13\u001b[0m \u001b[32m━━━━━━━━━━━━━━━━━━━━\u001b[0m\u001b[37m\u001b[0m \u001b[1m0s\u001b[0m 134ms/step - loss: 0.1862 - mean_squared_error: 0.1862\n",
            "Epoch 17: val_loss improved from 0.18957 to 0.18665, saving model to ./checkpoints/bestparams.keras\n",
            "\u001b[1m13/13\u001b[0m \u001b[32m━━━━━━━━━━━━━━━━━━━━\u001b[0m\u001b[37m\u001b[0m \u001b[1m2s\u001b[0m 158ms/step - loss: 0.1867 - mean_squared_error: 0.1867 - val_loss: 0.1866 - val_mean_squared_error: 0.1866\n",
            "Epoch 18/20\n",
            "\u001b[1m13/13\u001b[0m \u001b[32m━━━━━━━━━━━━━━━━━━━━\u001b[0m\u001b[37m\u001b[0m \u001b[1m0s\u001b[0m 135ms/step - loss: 0.2192 - mean_squared_error: 0.2192\n",
            "Epoch 18: val_loss improved from 0.18665 to 0.18464, saving model to ./checkpoints/bestparams.keras\n",
            "\u001b[1m13/13\u001b[0m \u001b[32m━━━━━━━━━━━━━━━━━━━━\u001b[0m\u001b[37m\u001b[0m \u001b[1m2s\u001b[0m 167ms/step - loss: 0.2176 - mean_squared_error: 0.2176 - val_loss: 0.1846 - val_mean_squared_error: 0.1846\n",
            "Epoch 19/20\n",
            "\u001b[1m13/13\u001b[0m \u001b[32m━━━━━━━━━━━━━━━━━━━━\u001b[0m\u001b[37m\u001b[0m \u001b[1m0s\u001b[0m 138ms/step - loss: 0.1869 - mean_squared_error: 0.1869\n",
            "Epoch 19: val_loss improved from 0.18464 to 0.18219, saving model to ./checkpoints/bestparams.keras\n",
            "\u001b[1m13/13\u001b[0m \u001b[32m━━━━━━━━━━━━━━━━━━━━\u001b[0m\u001b[37m\u001b[0m \u001b[1m2s\u001b[0m 170ms/step - loss: 0.1871 - mean_squared_error: 0.1871 - val_loss: 0.1822 - val_mean_squared_error: 0.1822\n",
            "Epoch 20/20\n",
            "\u001b[1m13/13\u001b[0m \u001b[32m━━━━━━━━━━━━━━━━━━━━\u001b[0m\u001b[37m\u001b[0m \u001b[1m0s\u001b[0m 134ms/step - loss: 0.1847 - mean_squared_error: 0.1847\n",
            "Epoch 20: val_loss did not improve from 0.18219\n",
            "\u001b[1m13/13\u001b[0m \u001b[32m━━━━━━━━━━━━━━━━━━━━\u001b[0m\u001b[37m\u001b[0m \u001b[1m2s\u001b[0m 154ms/step - loss: 0.1846 - mean_squared_error: 0.1846 - val_loss: 0.1841 - val_mean_squared_error: 0.1841\n",
            "\u001b[1m13/13\u001b[0m \u001b[32m━━━━━━━━━━━━━━━━━━━━\u001b[0m\u001b[37m\u001b[0m \u001b[1m1s\u001b[0m 26ms/step\n"
          ]
        }
      ]
    },
    {
      "cell_type": "markdown",
      "source": [
        "## Evaluation"
      ],
      "metadata": {
        "id": "TTGkPKXjydH8"
      }
    },
    {
      "cell_type": "code",
      "source": [
        "import matplotlib.pyplot as plt\n",
        "\n",
        "plt.scatter(test_mpe, prediction)\n",
        "plt.xlabel(\"Real Y\")\n",
        "plt.ylabel(\"Predicted Y\")\n",
        "plt.show()"
      ],
      "metadata": {
        "colab": {
          "base_uri": "https://localhost:8080/",
          "height": 449
        },
        "id": "cz3yQuqIxgKJ",
        "outputId": "ee481a24-6164-42bc-f039-51f1d9851075"
      },
      "execution_count": 11,
      "outputs": [
        {
          "output_type": "display_data",
          "data": {
            "text/plain": [
              "<Figure size 640x480 with 1 Axes>"
            ],
            "image/png": "[encoded data removed]"
          },
          "metadata": {}
        }
      ]
    }
  ],
  "metadata": {
    "accelerator": "GPU",
    "colab": {
      "gpuType": "T4",
      "provenance": []
    },
    "kernelspec": {
      "display_name": "Python 3",
      "name": "python3"
    }
  },
  "nbformat": 4,
  "nbformat_minor": 0
}